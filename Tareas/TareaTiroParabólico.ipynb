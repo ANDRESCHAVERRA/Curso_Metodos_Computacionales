{
  "cells": [
    {
      "cell_type": "code",
      "execution_count": null,
      "metadata": {
        "id": "HOLSgQBxw4N5"
      },
      "outputs": [],
      "source": [
        ""
      ]
    },
    {
      "cell_type": "markdown",
      "metadata": {
        "id": "qMsyRVC2w-4j"
      },
      "source": [
        "**Constantes:** \\\\\n",
        "$v_0$=Velocidad incial \\\\\n",
        "$g$=Gravedad \\\\\n",
        "$h$=Altura del aro \\\\\n",
        "$d$=Distancia horizontal del aro \\\\\n",
        "$r$=Radio del aro \\\\\n",
        "$(d,h)$=Coordenada del aro \\\\\n",
        "\n",
        "\n",
        "**Parámetro:** $$0\\leq\\theta\\leq\\pi /2$$ \\\\\n",
        "**Ecuaciones:**$$x=x_0 + (v_0cos \\theta)t \\ \\ \\ \\ ,  \\ \\ \\ \\ 0<x_0<d \\ \\ (*)$$ \\\\\n",
        "$$y= (v_0sen \\theta)t - \\frac{1}{2}gt^{2}\\ \\ \\ \\ \\ \\ \\ \\ \\ \\ (**)$$ \\\\\n",
        "$$t=\\frac{v_0sen \\theta + \\sqrt{(v_0sen \\theta)^{2}-2gh}}{g}\\ \\ \\ \\ \\ \\ \\ \\ \\ \\ (***)$$"
      ]
    },
    {
      "cell_type": "markdown",
      "metadata": {
        "id": "L9U_c_QJw-vx"
      },
      "source": [
        ""
      ]
    },
    {
      "cell_type": "code",
      "execution_count": null,
      "metadata": {
        "id": "eWjsBHcLwz60"
      },
      "outputs": [],
      "source": [
        ""
      ]
    },
    {
      "cell_type": "code",
      "execution_count": null,
      "metadata": {
        "id": "iRFVE61_ykCK"
      },
      "outputs": [],
      "source": [
        "import numpy as np\n",
        "import matplotlib.pylab as plt"
      ]
    },
    {
      "cell_type": "markdown",
      "metadata": {
        "id": "xpXbUDJuw0SE"
      },
      "source": [
        ""
      ]
    },
    {
      "cell_type": "code",
      "execution_count": null,
      "metadata": {
        "colab": {
          "base_uri": "https://localhost:8080/",
          "height": 355
        },
        "id": "pd--sJW_b5KK",
        "outputId": "d35300f8-4663-4398-8583-7809218b78cb"
      },
      "outputs": [
        {
          "output_type": "stream",
          "name": "stderr",
          "text": [
            "/usr/local/lib/python3.7/dist-packages/ipykernel_launcher.py:10: RuntimeWarning: invalid value encountered in sqrt\n",
            "  # Remove the CWD from sys.path while we load stuff.\n"
          ]
        },
        {
          "output_type": "execute_result",
          "data": {
            "text/plain": [
              "<matplotlib.legend.Legend at 0x7f8c90f48e50>"
            ]
          },
          "metadata": {},
          "execution_count": 5
        },
        {
          "output_type": "display_data",
          "data": {
            "image/png": "[encoded data removed]",
            "text/plain": [
              "<Figure size 432x288 with 1 Axes>"
            ]
          },
          "metadata": {
            "needs_background": "light"
          }
        }
      ],
      "source": [
        "vo=10\n",
        "g=9.8\n",
        "h=3\n",
        "d=15\n",
        "\n",
        "THETA=np.linspace(0.01,np.pi/2,100)\n",
        "\n",
        "\n",
        "#Escribimos el tiempo en términos del ángulo para trabajar con un sólo parámetro\n",
        "t=((vo*np.sin(THETA)+np.sqrt((vo*np.sin(THETA))**2-2*g*h)))/g\n",
        "xo=d-vo*np.cos(THETA)*t\n",
        "x=vo*np.cos(THETA)*t + xo\n",
        "v=vo*np.sin(THETA) -g*t\n",
        "#V = { \"Ángulo (°)\": THETA*(180/np.pi),\"Posición (m)\": xo,\"Tiempo de vuelo (s)\": t }\n",
        "\n",
        "\n",
        "\n",
        "def xf(THETA, xo):\n",
        "    x=vo*np.cos(THETA)*t + xo\n",
        "    for i in range(0,100):\n",
        "        if 0<xo[i]<d and abs(x[i]-d)<0.3 and v[i]<0:\n",
        "            return x[i]\n",
        "\n",
        "\n",
        "def xs(THETA):\n",
        "    for i in range(0,100):\n",
        "        if 0<xo[i]<d and abs(x[i]-d)<0.3 and v[i]<0:\n",
        "            V = { \"Ángulo (°)\": THETA[i]*(180/np.pi),\"Posición (m)\": xo[i],\"Tiempo de vuelo (s)\": t[i] }\n",
        "            L = [THETA[i]*(180/np.pi),xo[i],t[i]]      \n",
        "            return V\n",
        "#print(xs(THETA))\n",
        "\n",
        "plt.plot(xs(THETA)[ \"Ángulo (°)\"]*(np.pi/180),xs(THETA)[ \"Posición (m)\"],'o', color=\"blue\",label=\"Posición óptima de lazamiento\")\n",
        "plt.hlines(d+0.3,0,np.pi, color=\"red\", label=\"Díametro del aro\")\n",
        "plt.hlines(d-0.3,0,np.pi, color=\"red\")\n",
        "plt.hlines(0,0,np.pi, label=\"Origen\")\n",
        "plt.title(\"Posición VS Ángulo De Lanzamiento\")\n",
        "plt.plot(xs(THETA)[ \"Ángulo (°)\"]*(np.pi/180), xf(THETA, xo),'o',color=\"purple\", label=\"Posición final (aro)\")\n",
        "plt.xlabel(\"$rad$\")\n",
        "plt.ylabel(\"$x$\")\n",
        "plt.legend()\n",
        "\n",
        "\n",
        "\n",
        "#print(xs(THETA)[\"Tiempo de vuelo (s)\"])\n",
        "#print(xs(THETA)[\"Ángulo (°)\"])\n",
        "#xs(THETA)[\"Posición (m)\"]"
      ]
    },
    {
      "cell_type": "code",
      "execution_count": null,
      "metadata": {
        "colab": {
          "base_uri": "https://localhost:8080/"
        },
        "id": "XHN-Zl9nUxxj",
        "outputId": "3361907b-269a-4b93-948e-eccce7446d3b"
      },
      "outputs": [
        {
          "output_type": "execute_result",
          "data": {
            "text/plain": [
              "{'Posición (m)': 9.614619638013432,\n",
              " 'Tiempo de vuelo (s)': 0.8422860808154852,\n",
              " 'Ángulo (°)': 50.254647908947035}"
            ]
          },
          "metadata": {},
          "execution_count": 6
        }
      ],
      "source": [
        "xs(THETA)"
      ]
    },
    {
      "cell_type": "code",
      "execution_count": null,
      "metadata": {
        "id": "n0r_Xp4N8y41"
      },
      "outputs": [],
      "source": [
        ""
      ]
    },
    {
      "cell_type": "code",
      "execution_count": null,
      "metadata": {
        "id": "IMyQJ6UZ4hBl"
      },
      "outputs": [],
      "source": [
        "t1=np.arange(0, xs(THETA)[\"Tiempo de vuelo (s)\"],0.01)\n",
        "\n",
        "\n",
        "x1=vo*np.cos(xs(THETA)[\"Ángulo (°)\"]*(np.pi/180))*t1 + xs(THETA)[\"Posición (m)\"]\n",
        "y1=vo*np.sin(xs(THETA)[\"Ángulo (°)\"]*(np.pi/180))*t1 -(0.5)*g*t1**2\n",
        "#vx=vo*np.cos(V[\"Ángulo (°)\"]*(np.pi/180)) \n",
        "#vy=vo*np.sin(V[\"Ángulo (°)\"]*(np.pi/180)) - g*t1\n",
        "\n",
        "\n",
        "\n"
      ]
    },
    {
      "cell_type": "code",
      "execution_count": null,
      "metadata": {
        "colab": {
          "base_uri": "https://localhost:8080/",
          "height": 316
        },
        "id": "CPP8f23oradE",
        "outputId": "720d91e8-d850-41c2-8761-ea5e6272a507"
      },
      "outputs": [
        {
          "output_type": "execute_result",
          "data": {
            "text/plain": [
              "<matplotlib.legend.Legend at 0x7f8c908d5bd0>"
            ]
          },
          "metadata": {},
          "execution_count": 8
        },
        {
          "output_type": "display_data",
          "data": {
            "image/png": "[encoded data removed]",
            "text/plain": [
              "<Figure size 432x288 with 1 Axes>"
            ]
          },
          "metadata": {
            "needs_background": "light"
          }
        }
      ],
      "source": [
        "plt.figure()\n",
        "plt.plot(t1,x1)\n",
        "plt.title(\"$x$ vs $t$\")\n",
        "plt.xlabel(\"$t$\")\n",
        "plt.ylabel(\"$x$\")\n",
        "plt.vlines(xs(THETA)[\"Tiempo de vuelo (s)\"],d,0,color=\"black\", label=\"d\")\n",
        "plt.plot(xs(THETA)[\"Tiempo de vuelo (s)\"],d,'X',label=\"Aro\")\n",
        "plt.legend()\n"
      ]
    },
    {
      "cell_type": "code",
      "execution_count": null,
      "metadata": {
        "colab": {
          "base_uri": "https://localhost:8080/",
          "height": 317
        },
        "id": "jPAVWMahrmx2",
        "outputId": "6428a836-7147-4580-95d0-72806ce62495"
      },
      "outputs": [
        {
          "output_type": "execute_result",
          "data": {
            "text/plain": [
              "<matplotlib.legend.Legend at 0x7f8c90899fd0>"
            ]
          },
          "metadata": {},
          "execution_count": 9
        },
        {
          "output_type": "display_data",
          "data": {
            "image/png": "[encoded data removed]",
            "text/plain": [
              "<Figure size 432x288 with 1 Axes>"
            ]
          },
          "metadata": {
            "needs_background": "light"
          }
        }
      ],
      "source": [
        "plt.figure()\n",
        "plt.plot(t1,y1)\n",
        "plt.title(\"$y$ vs $t$\")\n",
        "plt.xlabel(\"$t$\")\n",
        "plt.ylabel(\"$y$\")\n",
        "plt.vlines(xs(THETA)[\"Tiempo de vuelo (s)\"],h,0,color=\"black\", label=\"h\")\n",
        "plt.plot(xs(THETA)[\"Tiempo de vuelo (s)\"],h,'X',label=\"Aro\")\n",
        "plt.legend()\n"
      ]
    },
    {
      "cell_type": "code",
      "execution_count": null,
      "metadata": {
        "id": "XuGnoH4Erm06"
      },
      "outputs": [],
      "source": [
        "\n",
        "\n"
      ]
    },
    {
      "cell_type": "code",
      "execution_count": null,
      "metadata": {
        "colab": {
          "base_uri": "https://localhost:8080/"
        },
        "id": "QW2QnaWtUxx_",
        "outputId": "ce3508f3-582d-4d03-bfe1-4559a7262867"
      },
      "outputs": [
        {
          "output_type": "execute_result",
          "data": {
            "text/plain": [
              "{'Posición (m)': 9.614619638013432,\n",
              " 'Tiempo de vuelo (s)': 0.8422860808154852,\n",
              " 'Ángulo (°)': 50.254647908947035}"
            ]
          },
          "metadata": {},
          "execution_count": 10
        }
      ],
      "source": [
        "xs(THETA)"
      ]
    },
    {
      "cell_type": "code",
      "execution_count": null,
      "metadata": {
        "id": "ynWKUzKDUxyB"
      },
      "outputs": [],
      "source": [
        ""
      ]
    },
    {
      "cell_type": "code",
      "execution_count": null,
      "metadata": {
        "id": "8O9mM8ViUxyC"
      },
      "outputs": [],
      "source": [
        ""
      ]
    },
    {
      "cell_type": "code",
      "execution_count": null,
      "metadata": {
        "id": "q1EGXd7PUxyF"
      },
      "outputs": [],
      "source": [
        "def vo(THETA):\n",
        "    vo=(2*g*h)**(0.5)/np.sin(THETA)\n",
        "    G={\"Velocidad mínima\":min(vo)}\n",
        "    return G"
      ]
    },
    {
      "cell_type": "code",
      "execution_count": null,
      "metadata": {
        "colab": {
          "base_uri": "https://localhost:8080/"
        },
        "id": "dvvLf0PsUxyR",
        "outputId": "bba7242e-343a-4a7a-cc01-15ed0091ef9a"
      },
      "outputs": [
        {
          "output_type": "execute_result",
          "data": {
            "text/plain": [
              "7.6681158050723255"
            ]
          },
          "metadata": {},
          "execution_count": 12
        }
      ],
      "source": [
        "vo(THETA)[\"Velocidad mínima\"]"
      ]
    }
  ],
  "metadata": {
    "colab": {
      "collapsed_sections": [],
      "name": "Tarea.ipynb",
      "provenance": []
    },
    "kernelspec": {
      "display_name": "Python 3 (ipykernel)",
      "language": "python",
      "name": "python3"
    },
    "language_info": {
      "codemirror_mode": {
        "name": "ipython",
        "version": 3
      },
      "file_extension": ".py",
      "mimetype": "text/x-python",
      "name": "python",
      "nbconvert_exporter": "python",
      "pygments_lexer": "ipython3",
      "version": "3.9.7"
    }
  },
  "nbformat": 4,
  "nbformat_minor": 0
}